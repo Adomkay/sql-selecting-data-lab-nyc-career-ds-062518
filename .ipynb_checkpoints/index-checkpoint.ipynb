{
 "cells": [
  {
   "cell_type": "markdown",
   "metadata": {},
   "source": [
    "# Selecting Data Lab"
   ]
  },
  {
   "cell_type": "markdown",
   "metadata": {},
   "source": [
    "In this lab, we will practice writing `SELECT` statements to query a database."
   ]
  },
  {
   "cell_type": "markdown",
   "metadata": {},
   "source": [
    "## Objectives\n",
    "\n",
    "1.  Use the `SELECT *` statement to pull all values from a table\n",
    "2.  Use `SELECT` and specify `column_name(s)` to pull only certain columns from a table\n",
    "3.  Use `WHERE` and conditionals to pull more specific information from a table"
   ]
  },
  {
   "cell_type": "markdown",
   "metadata": {},
   "source": [
    "We created a `dogs` table and seeded it with information about eight famous bowsers.  Let's practice writing different `SELECT` statements to query from this table.  The `dogs` table is featured below:"
   ]
  },
  {
   "cell_type": "code",
   "execution_count": 54,
   "metadata": {
    "scrolled": true
   },
   "outputs": [
    {
     "name": "stdout",
     "output_type": "stream",
     "text": [
      " * sqlite://\n",
      "Done.\n"
     ]
    },
    {
     "data": {
      "text/html": [
       "<table>\n",
       "    <tr>\n",
       "        <th>id</th>\n",
       "        <th>name</th>\n",
       "        <th>age</th>\n",
       "        <th>gender</th>\n",
       "        <th>breed</th>\n",
       "        <th>temperament</th>\n",
       "    </tr>\n",
       "    <tr>\n",
       "        <td>1</td>\n",
       "        <td>Snoopy</td>\n",
       "        <td>3</td>\n",
       "        <td>M</td>\n",
       "        <td>beagle</td>\n",
       "        <td>friendly</td>\n",
       "    </tr>\n",
       "    <tr>\n",
       "        <td>2</td>\n",
       "        <td>McGruff</td>\n",
       "        <td>10</td>\n",
       "        <td>M</td>\n",
       "        <td>bloodhound</td>\n",
       "        <td>observant</td>\n",
       "    </tr>\n",
       "    <tr>\n",
       "        <td>3</td>\n",
       "        <td>Scooby</td>\n",
       "        <td>6</td>\n",
       "        <td>M</td>\n",
       "        <td>great dane</td>\n",
       "        <td>hungry</td>\n",
       "    </tr>\n",
       "    <tr>\n",
       "        <td>4</td>\n",
       "        <td>Little Ann</td>\n",
       "        <td>5</td>\n",
       "        <td>F</td>\n",
       "        <td>coonhound</td>\n",
       "        <td>loyal</td>\n",
       "    </tr>\n",
       "    <tr>\n",
       "        <td>5</td>\n",
       "        <td>Pickles</td>\n",
       "        <td>13</td>\n",
       "        <td>F</td>\n",
       "        <td>black lab</td>\n",
       "        <td>mischevious</td>\n",
       "    </tr>\n",
       "    <tr>\n",
       "        <td>6</td>\n",
       "        <td>Clifford</td>\n",
       "        <td>4</td>\n",
       "        <td>M</td>\n",
       "        <td>big red</td>\n",
       "        <td>smiley</td>\n",
       "    </tr>\n",
       "    <tr>\n",
       "        <td>7</td>\n",
       "        <td>Lassie</td>\n",
       "        <td>7</td>\n",
       "        <td>F</td>\n",
       "        <td>collie</td>\n",
       "        <td>loving</td>\n",
       "    </tr>\n",
       "    <tr>\n",
       "        <td>8</td>\n",
       "        <td>Snowy</td>\n",
       "        <td>8</td>\n",
       "        <td>F</td>\n",
       "        <td>fox terrier</td>\n",
       "        <td>adventurous</td>\n",
       "    </tr>\n",
       "</table>"
      ],
      "text/plain": [
       "[(1, 'Snoopy', 3, 'M', 'beagle', 'friendly'),\n",
       " (2, 'McGruff', 10, 'M', 'bloodhound', 'observant'),\n",
       " (3, 'Scooby', 6, 'M', 'great dane', 'hungry'),\n",
       " (4, 'Little Ann', 5, 'F', 'coonhound', 'loyal'),\n",
       " (5, 'Pickles', 13, 'F', 'black lab', 'mischevious'),\n",
       " (6, 'Clifford', 4, 'M', 'big red', 'smiley'),\n",
       " (7, 'Lassie', 7, 'F', 'collie', 'loving'),\n",
       " (8, 'Snowy', 8, 'F', 'fox terrier', 'adventurous')]"
      ]
     },
     "execution_count": 54,
     "metadata": {},
     "output_type": "execute_result"
    }
   ],
   "source": [
    "%sql SELECT * FROM dogs;"
   ]
  },
  {
   "cell_type": "markdown",
   "metadata": {},
   "source": [
    "#### Selecting all rows\n",
    "\n",
    "Write a function called `select_all` that returns all columns and rows from our table."
   ]
  },
  {
   "cell_type": "code",
   "execution_count": 58,
   "metadata": {},
   "outputs": [
    {
     "name": "stdout",
     "output_type": "stream",
     "text": [
      " * sqlite://\n",
      "Done.\n"
     ]
    },
    {
     "data": {
      "text/html": [
       "<table>\n",
       "    <tr>\n",
       "        <th>id</th>\n",
       "        <th>name</th>\n",
       "        <th>age</th>\n",
       "        <th>gender</th>\n",
       "        <th>breed</th>\n",
       "        <th>temperament</th>\n",
       "    </tr>\n",
       "    <tr>\n",
       "        <td>1</td>\n",
       "        <td>Snoopy</td>\n",
       "        <td>3</td>\n",
       "        <td>M</td>\n",
       "        <td>beagle</td>\n",
       "        <td>friendly</td>\n",
       "    </tr>\n",
       "    <tr>\n",
       "        <td>2</td>\n",
       "        <td>McGruff</td>\n",
       "        <td>10</td>\n",
       "        <td>M</td>\n",
       "        <td>bloodhound</td>\n",
       "        <td>observant</td>\n",
       "    </tr>\n",
       "    <tr>\n",
       "        <td>3</td>\n",
       "        <td>Scooby</td>\n",
       "        <td>6</td>\n",
       "        <td>M</td>\n",
       "        <td>great dane</td>\n",
       "        <td>hungry</td>\n",
       "    </tr>\n",
       "    <tr>\n",
       "        <td>4</td>\n",
       "        <td>Little Ann</td>\n",
       "        <td>5</td>\n",
       "        <td>F</td>\n",
       "        <td>coonhound</td>\n",
       "        <td>loyal</td>\n",
       "    </tr>\n",
       "    <tr>\n",
       "        <td>5</td>\n",
       "        <td>Pickles</td>\n",
       "        <td>13</td>\n",
       "        <td>F</td>\n",
       "        <td>black lab</td>\n",
       "        <td>mischevious</td>\n",
       "    </tr>\n",
       "    <tr>\n",
       "        <td>6</td>\n",
       "        <td>Clifford</td>\n",
       "        <td>4</td>\n",
       "        <td>M</td>\n",
       "        <td>big red</td>\n",
       "        <td>smiley</td>\n",
       "    </tr>\n",
       "    <tr>\n",
       "        <td>7</td>\n",
       "        <td>Lassie</td>\n",
       "        <td>7</td>\n",
       "        <td>F</td>\n",
       "        <td>collie</td>\n",
       "        <td>loving</td>\n",
       "    </tr>\n",
       "    <tr>\n",
       "        <td>8</td>\n",
       "        <td>Snowy</td>\n",
       "        <td>8</td>\n",
       "        <td>F</td>\n",
       "        <td>fox terrier</td>\n",
       "        <td>adventurous</td>\n",
       "    </tr>\n",
       "</table>"
      ],
      "text/plain": [
       "[(1, 'Snoopy', 3, 'M', 'beagle', 'friendly'),\n",
       " (2, 'McGruff', 10, 'M', 'bloodhound', 'observant'),\n",
       " (3, 'Scooby', 6, 'M', 'great dane', 'hungry'),\n",
       " (4, 'Little Ann', 5, 'F', 'coonhound', 'loyal'),\n",
       " (5, 'Pickles', 13, 'F', 'black lab', 'mischevious'),\n",
       " (6, 'Clifford', 4, 'M', 'big red', 'smiley'),\n",
       " (7, 'Lassie', 7, 'F', 'collie', 'loving'),\n",
       " (8, 'Snowy', 8, 'F', 'fox terrier', 'adventurous')]"
      ]
     },
     "execution_count": 58,
     "metadata": {},
     "output_type": "execute_result"
    }
   ],
   "source": [
    "%sql SELECT * FROM dogs;"
   ]
  },
  {
   "cell_type": "code",
   "execution_count": 59,
   "metadata": {},
   "outputs": [
    {
     "name": "stdout",
     "output_type": "stream",
     "text": [
      " * sqlite://\n",
      "Done.\n"
     ]
    },
    {
     "data": {
      "text/html": [
       "<table>\n",
       "    <tr>\n",
       "        <th>name</th>\n",
       "        <th>breed</th>\n",
       "    </tr>\n",
       "    <tr>\n",
       "        <td>Snoopy</td>\n",
       "        <td>beagle</td>\n",
       "    </tr>\n",
       "    <tr>\n",
       "        <td>McGruff</td>\n",
       "        <td>bloodhound</td>\n",
       "    </tr>\n",
       "    <tr>\n",
       "        <td>Scooby</td>\n",
       "        <td>great dane</td>\n",
       "    </tr>\n",
       "    <tr>\n",
       "        <td>Little Ann</td>\n",
       "        <td>coonhound</td>\n",
       "    </tr>\n",
       "    <tr>\n",
       "        <td>Pickles</td>\n",
       "        <td>black lab</td>\n",
       "    </tr>\n",
       "    <tr>\n",
       "        <td>Clifford</td>\n",
       "        <td>big red</td>\n",
       "    </tr>\n",
       "    <tr>\n",
       "        <td>Lassie</td>\n",
       "        <td>collie</td>\n",
       "    </tr>\n",
       "    <tr>\n",
       "        <td>Snowy</td>\n",
       "        <td>fox terrier</td>\n",
       "    </tr>\n",
       "</table>"
      ],
      "text/plain": [
       "[('Snoopy', 'beagle'),\n",
       " ('McGruff', 'bloodhound'),\n",
       " ('Scooby', 'great dane'),\n",
       " ('Little Ann', 'coonhound'),\n",
       " ('Pickles', 'black lab'),\n",
       " ('Clifford', 'big red'),\n",
       " ('Lassie', 'collie'),\n",
       " ('Snowy', 'fox terrier')]"
      ]
     },
     "execution_count": 59,
     "metadata": {},
     "output_type": "execute_result"
    }
   ],
   "source": [
    "%sql SELECT name, breed FROM dogs;"
   ]
  },
  {
   "cell_type": "code",
   "execution_count": 63,
   "metadata": {},
   "outputs": [
    {
     "name": "stdout",
     "output_type": "stream",
     "text": [
      " * sqlite://\n",
      "Done.\n"
     ]
    },
    {
     "data": {
      "text/html": [
       "<table>\n",
       "    <tr>\n",
       "        <th>name</th>\n",
       "        <th>gender</th>\n",
       "    </tr>\n",
       "    <tr>\n",
       "        <td>Little Ann</td>\n",
       "        <td>F</td>\n",
       "    </tr>\n",
       "    <tr>\n",
       "        <td>Pickles</td>\n",
       "        <td>F</td>\n",
       "    </tr>\n",
       "    <tr>\n",
       "        <td>Lassie</td>\n",
       "        <td>F</td>\n",
       "    </tr>\n",
       "    <tr>\n",
       "        <td>Snowy</td>\n",
       "        <td>F</td>\n",
       "    </tr>\n",
       "</table>"
      ],
      "text/plain": [
       "[('Little Ann', 'F'), ('Pickles', 'F'), ('Lassie', 'F'), ('Snowy', 'F')]"
      ]
     },
     "execution_count": 63,
     "metadata": {},
     "output_type": "execute_result"
    }
   ],
   "source": [
    "%sql SELECT name, gender FROM dogs WHERE gender = \"F\";"
   ]
  },
  {
   "cell_type": "code",
   "execution_count": 71,
   "metadata": {},
   "outputs": [
    {
     "name": "stdout",
     "output_type": "stream",
     "text": [
      " * sqlite://\n",
      "Done.\n"
     ]
    },
    {
     "data": {
      "text/html": [
       "<table>\n",
       "    <tr>\n",
       "        <th>name</th>\n",
       "        <th>temperament</th>\n",
       "    </tr>\n",
       "    <tr>\n",
       "        <td>Snoopy</td>\n",
       "        <td>friendly</td>\n",
       "    </tr>\n",
       "    <tr>\n",
       "        <td>Clifford</td>\n",
       "        <td>smiley</td>\n",
       "    </tr>\n",
       "</table>"
      ],
      "text/plain": [
       "[('Snoopy', 'friendly'), ('Clifford', 'smiley')]"
      ]
     },
     "execution_count": 71,
     "metadata": {},
     "output_type": "execute_result"
    }
   ],
   "source": [
    "%sql SELECT name, temperament FROM dogs WHERE temperament = \"friendly\" OR temperament = \"smiley\";"
   ]
  },
  {
   "cell_type": "code",
   "execution_count": 73,
   "metadata": {},
   "outputs": [
    {
     "name": "stdout",
     "output_type": "stream",
     "text": [
      " * sqlite://\n",
      "Done.\n"
     ]
    },
    {
     "data": {
      "text/html": [
       "<table>\n",
       "    <tr>\n",
       "        <th>id</th>\n",
       "        <th>name</th>\n",
       "        <th>age</th>\n",
       "        <th>gender</th>\n",
       "        <th>breed</th>\n",
       "        <th>temperament</th>\n",
       "    </tr>\n",
       "    <tr>\n",
       "        <td>1</td>\n",
       "        <td>Snoopy</td>\n",
       "        <td>3</td>\n",
       "        <td>M</td>\n",
       "        <td>beagle</td>\n",
       "        <td>friendly</td>\n",
       "    </tr>\n",
       "    <tr>\n",
       "        <td>3</td>\n",
       "        <td>Scooby</td>\n",
       "        <td>6</td>\n",
       "        <td>M</td>\n",
       "        <td>great dane</td>\n",
       "        <td>hungry</td>\n",
       "    </tr>\n",
       "    <tr>\n",
       "        <td>4</td>\n",
       "        <td>Little Ann</td>\n",
       "        <td>5</td>\n",
       "        <td>F</td>\n",
       "        <td>coonhound</td>\n",
       "        <td>loyal</td>\n",
       "    </tr>\n",
       "    <tr>\n",
       "        <td>6</td>\n",
       "        <td>Clifford</td>\n",
       "        <td>4</td>\n",
       "        <td>M</td>\n",
       "        <td>big red</td>\n",
       "        <td>smiley</td>\n",
       "    </tr>\n",
       "</table>"
      ],
      "text/plain": [
       "[(1, 'Snoopy', 3, 'M', 'beagle', 'friendly'),\n",
       " (3, 'Scooby', 6, 'M', 'great dane', 'hungry'),\n",
       " (4, 'Little Ann', 5, 'F', 'coonhound', 'loyal'),\n",
       " (6, 'Clifford', 4, 'M', 'big red', 'smiley')]"
      ]
     },
     "execution_count": 73,
     "metadata": {},
     "output_type": "execute_result"
    }
   ],
   "source": [
    "%sql SELECT * FROM dogs WHERE age < 7;"
   ]
  },
  {
   "cell_type": "code",
   "execution_count": 74,
   "metadata": {},
   "outputs": [
    {
     "name": "stdout",
     "output_type": "stream",
     "text": [
      " * sqlite://\n",
      "Done.\n"
     ]
    },
    {
     "data": {
      "text/html": [
       "<table>\n",
       "    <tr>\n",
       "        <th>id</th>\n",
       "        <th>name</th>\n",
       "        <th>age</th>\n",
       "        <th>gender</th>\n",
       "        <th>breed</th>\n",
       "        <th>temperament</th>\n",
       "    </tr>\n",
       "    <tr>\n",
       "        <td>5</td>\n",
       "        <td>Pickles</td>\n",
       "        <td>13</td>\n",
       "        <td>F</td>\n",
       "        <td>black lab</td>\n",
       "        <td>mischevious</td>\n",
       "    </tr>\n",
       "</table>"
      ],
      "text/plain": [
       "[(5, 'Pickles', 13, 'F', 'black lab', 'mischevious')]"
      ]
     },
     "execution_count": 74,
     "metadata": {},
     "output_type": "execute_result"
    }
   ],
   "source": [
    "%sql SELECT * FROM dogs WHERE age > 7 AND breed = \"black lab\";"
   ]
  },
  {
   "cell_type": "code",
   "execution_count": null,
   "metadata": {},
   "outputs": [],
   "source": []
  }
 ],
 "metadata": {
  "kernelspec": {
   "display_name": "Python 3",
   "language": "python",
   "name": "python3"
  },
  "language_info": {
   "codemirror_mode": {
    "name": "ipython",
    "version": 3
   },
   "file_extension": ".py",
   "mimetype": "text/x-python",
   "name": "python",
   "nbconvert_exporter": "python",
   "pygments_lexer": "ipython3",
   "version": "3.6.4"
  }
 },
 "nbformat": 4,
 "nbformat_minor": 2
}
